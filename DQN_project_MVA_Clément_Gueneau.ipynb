{
  "nbformat": 4,
  "nbformat_minor": 0,
  "metadata": {
    "kernelspec": {
      "name": "python3",
      "display_name": "Python 3"
    },
    "language_info": {
      "codemirror_mode": {
        "name": "ipython",
        "version": 3
      },
      "file_extension": ".py",
      "mimetype": "text/x-python",
      "name": "python",
      "nbconvert_exporter": "python",
      "pygments_lexer": "ipython3",
      "version": "3.6.5"
    },
    "colab": {
      "name": "DQN_project_MVA_Clément_Gueneau.ipynb",
      "provenance": [],
      "collapsed_sections": []
    },
    "accelerator": "GPU"
  },
  "cells": [
    {
      "cell_type": "markdown",
      "metadata": {
        "id": "zkhDG3Ro3cSp",
        "colab_type": "text"
      },
      "source": [
        "**You may need to install [OpenCV](https://pypi.python.org/pypi/opencv-python) and [scikit-video](http://www.scikit-video.org/stable/).**"
      ]
    },
    {
      "cell_type": "code",
      "metadata": {
        "id": "1ydmiLMl3kR0",
        "colab_type": "code",
        "outputId": "dfc8ed2d-c321-45fd-e6cf-b124937e2bc5",
        "colab": {
          "base_uri": "https://localhost:8080/",
          "height": 207
        }
      },
      "source": [
        "! pip install scikit-video\n",
        "! pip install opencv-python"
      ],
      "execution_count": 1,
      "outputs": [
        {
          "output_type": "stream",
          "text": [
            "Collecting scikit-video\n",
            "\u001b[?25l  Downloading https://files.pythonhosted.org/packages/b1/a6/c69cad508139a342810ae46e946ebb3256aa6e42f690d901bb68f50582e3/scikit_video-1.1.11-py2.py3-none-any.whl (2.3MB)\n",
            "\u001b[K     |████████████████████████████████| 2.3MB 2.7MB/s \n",
            "\u001b[?25hRequirement already satisfied: pillow in /usr/local/lib/python3.6/dist-packages (from scikit-video) (6.2.2)\n",
            "Requirement already satisfied: scipy in /usr/local/lib/python3.6/dist-packages (from scikit-video) (1.4.1)\n",
            "Requirement already satisfied: numpy in /usr/local/lib/python3.6/dist-packages (from scikit-video) (1.17.5)\n",
            "Installing collected packages: scikit-video\n",
            "Successfully installed scikit-video-1.1.11\n",
            "Requirement already satisfied: opencv-python in /usr/local/lib/python3.6/dist-packages (4.1.2.30)\n",
            "Requirement already satisfied: numpy>=1.11.3 in /usr/local/lib/python3.6/dist-packages (from opencv-python) (1.17.5)\n"
          ],
          "name": "stdout"
        }
      ]
    },
    {
      "cell_type": "code",
      "metadata": {
        "id": "mW2dAdjF3cTK",
        "colab_type": "code",
        "outputId": "65218414-b3f2-405b-8488-727600df1ebe",
        "colab": {
          "base_uri": "https://localhost:8080/",
          "height": 80
        }
      },
      "source": [
        "import keras\n",
        "import numpy as np\n",
        "import io\n",
        "import base64\n",
        "from IPython.display import HTML\n",
        "import skvideo.io\n",
        "import cv2\n",
        "import json\n",
        "\n",
        "from keras.models import Sequential,model_from_json\n",
        "from keras.layers.core import Dense\n",
        "from keras.optimizers import sgd\n",
        "from keras.layers import Conv2D, MaxPooling2D, Activation, AveragePooling2D,Reshape,BatchNormalization"
      ],
      "execution_count": 2,
      "outputs": [
        {
          "output_type": "stream",
          "text": [
            "Using TensorFlow backend.\n"
          ],
          "name": "stderr"
        },
        {
          "output_type": "display_data",
          "data": {
            "text/html": [
              "<p style=\"color: red;\">\n",
              "The default version of TensorFlow in Colab will soon switch to TensorFlow 2.x.<br>\n",
              "We recommend you <a href=\"https://www.tensorflow.org/guide/migrate\" target=\"_blank\">upgrade</a> now \n",
              "or ensure your notebook will continue to use TensorFlow 1.x via the <code>%tensorflow_version 1.x</code> magic:\n",
              "<a href=\"https://colab.research.google.com/notebooks/tensorflow_version.ipynb\" target=\"_blank\">more info</a>.</p>\n"
            ],
            "text/plain": [
              "<IPython.core.display.HTML object>"
            ]
          },
          "metadata": {
            "tags": []
          }
        }
      ]
    },
    {
      "cell_type": "markdown",
      "metadata": {
        "id": "JfvAWALS3cTa",
        "colab_type": "text"
      },
      "source": [
        "# MiniProject on Deep Reinforcement Learning"
      ]
    },
    {
      "cell_type": "markdown",
      "metadata": {
        "id": "l4iz9dtp3cTe",
        "colab_type": "text"
      },
      "source": [
        "__Notations__: $E_p$ is the expectation under probability $p$. Please justify each of your answer and widely comment your code."
      ]
    },
    {
      "cell_type": "markdown",
      "metadata": {
        "id": "KzlZ0w_r3cTi",
        "colab_type": "text"
      },
      "source": [
        "# Context"
      ]
    },
    {
      "cell_type": "markdown",
      "metadata": {
        "id": "wXo_9ao73cTn",
        "colab_type": "text"
      },
      "source": [
        "In a reinforcement learning algorithm, we modelize each step $t$ as an action $a_t$ obtained from a state $s_t$, i.e. $\\{(a_{t},s_{t})_{t\\leq T}\\}$ having the Markov property. We consider a discount factor $\\gamma \\in [0,1]$ that ensures convergence. The goal is to find among all the policies $\\pi$, one that maximizes the expected reward:\n",
        "\n",
        "\\begin{equation*}\n",
        "R(\\pi)=\\sum_{t\\leq T}E_{p^{\\pi}}[\\gamma^t r(s_{t},a_{t})],\n",
        "\\end{equation*}\n",
        "\n",
        "where: \n",
        "$$p^{\\pi}(a_{0},a_{1},s_{1},...,a_{T},s_{T})=p(a_{0})\\prod_{t=1}^{T}\\pi(a_{t}|s_{t})p(s_{t+1}|s_{t},a_{t})$$ .\n",
        "\n",
        "We note the $Q$-function:\n",
        "\n",
        "\\begin{equation*}Q^\\pi(s,a)=E_{p^{\\pi}}[\\sum_{t\\leq T}\\gamma^{t}r(s_{t},a_{t})|s_{0}=s,a_{0}=a].\n",
        "\\end{equation*}\n",
        "\n",
        "Thus, the optimal Q function is:\n",
        "$$Q^*(s,a)=\\max_{\\pi}Q^\\pi(s,a)$$ .\n",
        "\n",
        "In this project, we will apply the deep reinforcement learning techniques to a simple game: an agent will have to learn from scratch a policy that will permit it maximizing a reward."
      ]
    },
    {
      "cell_type": "markdown",
      "metadata": {
        "id": "pmGHtiVO3cTt",
        "colab_type": "text"
      },
      "source": [
        "## The environment, the agent and the game"
      ]
    },
    {
      "cell_type": "markdown",
      "metadata": {
        "id": "CZQQV3DC3cTw",
        "colab_type": "text"
      },
      "source": [
        "### The environment"
      ]
    },
    {
      "cell_type": "markdown",
      "metadata": {
        "id": "iGMVG1wd3cT0",
        "colab_type": "text"
      },
      "source": [
        "```Environment``` is an abstract class that represents the states, rewards, and actions to obtain the new state."
      ]
    },
    {
      "cell_type": "code",
      "metadata": {
        "id": "jW_mmHfZ3cT6",
        "colab_type": "code",
        "colab": {}
      },
      "source": [
        "class Environment(object):\n",
        "    def __init__(self):\n",
        "        pass\n",
        "\n",
        "    def act(self, act):\n",
        "        \"\"\"\n",
        "        One can act on the environment and obtain its reaction:\n",
        "        - the new state\n",
        "        - the reward of the new state\n",
        "        - should we continue the game?\n",
        "\n",
        "        :return: state, reward, game_over\n",
        "        \"\"\"\n",
        "        pass\n",
        "\n",
        "\n",
        "    def reset(self):\n",
        "        \"\"\"\n",
        "        Reinitialize the environment to a random state and returns\n",
        "        the original state\n",
        "\n",
        "        :return: state\n",
        "        \"\"\"\n",
        "        pass\n",
        "    \n",
        "    def draw(self):\n",
        "        \"\"\"\n",
        "        Visualize in the console or graphically the current state\n",
        "        \"\"\"\n",
        "        pass"
      ],
      "execution_count": 0,
      "outputs": []
    },
    {
      "cell_type": "markdown",
      "metadata": {
        "id": "ebm8NsfF3cUL",
        "colab_type": "text"
      },
      "source": [
        "The method ```act``` allows to act on the environment at a given state $s_t$ (stored internally), via action $a_t$. The method will return the new state $s_{t+1}$, the reward $r(s_{t},a_{t})$ and determines if $t\\leq T$ (*game_over*).\n",
        "\n",
        "The method ```reset``` simply reinitializes the environment to a random state $s_0$.\n",
        "\n",
        "The method ```draw``` displays the current state $s_t$ (this is useful to check the behavior of the Agent).\n",
        "\n",
        "We modelize $s_t$ as a tensor, while $a_t$ is an integer."
      ]
    },
    {
      "cell_type": "markdown",
      "metadata": {
        "id": "VZanpuSL3cUO",
        "colab_type": "text"
      },
      "source": [
        "### The Agent"
      ]
    },
    {
      "cell_type": "markdown",
      "metadata": {
        "id": "Y1arVts-3cUR",
        "colab_type": "text"
      },
      "source": [
        "The goal of the ```Agent``` is to interact with the ```Environment``` by proposing actions $a_t$ obtained from a given state $s_t$ to attempt to maximize its __reward__ $r(s_t,a_t)$. We propose the following abstract class:"
      ]
    },
    {
      "cell_type": "code",
      "metadata": {
        "id": "ppxokN5T3cUU",
        "colab_type": "code",
        "colab": {}
      },
      "source": [
        "class Agent(object):\n",
        "    def __init__(self, epsilon=0.1, n_action=4):\n",
        "        self.epsilon = epsilon\n",
        "        self.n_action = n_action\n",
        "    \n",
        "    def set_epsilon(self,e):\n",
        "        self.epsilon = e\n",
        "\n",
        "    def act(self,s,train=True):\n",
        "        \"\"\" This function should return the next action to do:\n",
        "        an integer between 0 and 4 (not included) with a random exploration of epsilon\"\"\"\n",
        "        if train:\n",
        "            if np.random.rand() <= self.epsilon:\n",
        "                a = np.random.randint(0, self.n_action, size=1)[0]\n",
        "            else:\n",
        "                a = self.learned_act(s)\n",
        "        else: # in some cases, this can improve the performance.. remove it if poor performances\n",
        "            a = self.learned_act(s)\n",
        "\n",
        "        return a\n",
        "\n",
        "    def learned_act(self,s):\n",
        "        \"\"\" Act via the policy of the agent, from a given state s\n",
        "        it proposes an action a\"\"\"\n",
        "        pass\n",
        "\n",
        "    def reinforce(self, s, n_s, a, r, game_over_):\n",
        "        \"\"\" This function is the core of the learning algorithm. \n",
        "        It takes as an input the current state s_, the next state n_s_\n",
        "        the action a_ used to move from s_ to n_s_ and the reward r_.\n",
        "        \n",
        "        Its goal is to learn a policy.\n",
        "        \"\"\"\n",
        "        pass\n",
        "\n",
        "    def save(self):\n",
        "        \"\"\" This function returns basic stats if applicable: the\n",
        "        loss and/or the model\"\"\"\n",
        "        pass\n",
        "\n",
        "    def load(self):\n",
        "        \"\"\" This function allows to restore a model\"\"\"\n",
        "        pass"
      ],
      "execution_count": 0,
      "outputs": []
    },
    {
      "cell_type": "markdown",
      "metadata": {
        "id": "7j0FsETP3cUf",
        "colab_type": "text"
      },
      "source": [
        "***\n",
        "__Question 1__:\n",
        "Explain the function act. Why is ```epsilon``` essential? #"
      ]
    },
    {
      "cell_type": "markdown",
      "metadata": {
        "id": "kcRa1eNU3cUj",
        "colab_type": "text"
      },
      "source": [
        "The function act uses the $\\epsilon$-greedy method : with probability $\\epsilon$ the algorithm chooses a random action so it explores all possibilities with a non zero probability and find better policies ; with probability $1-\\epsilon$ the algorithm choose the action returned by the current policy in state $s$. The function act gives the possibility to remove the $\\epsilon$ exploration by setting ```train``` to $False$. It is equivalent to $\\epsilon=0$. Finally : act gives the action $a_t$ according to a given state $s_t$."
      ]
    },
    {
      "cell_type": "markdown",
      "metadata": {
        "id": "YgnSOOcg3cUl",
        "colab_type": "text"
      },
      "source": [
        "***\n",
        "### The Game"
      ]
    },
    {
      "cell_type": "markdown",
      "metadata": {
        "id": "3D9W-4VS3cUp",
        "colab_type": "text"
      },
      "source": [
        "The ```Agent``` and the ```Environment``` work in an interlaced way as in the following (take some time to understand this code as it is the core of the project)\n",
        "\n",
        "```python\n",
        "\n",
        "epoch = 300\n",
        "env = Environment()\n",
        "agent = Agent()\n",
        "\n",
        "\n",
        "# Number of won games\n",
        "score = 0\n",
        "loss = 0\n",
        "\n",
        "\n",
        "for e in range(epoch):\n",
        "    # At each epoch, we restart to a fresh game and get the initial state\n",
        "    state = env.reset()\n",
        "    # This assumes that the games will end\n",
        "    game_over = False\n",
        "\n",
        "    win = 0\n",
        "    lose = 0\n",
        "    \n",
        "    while not game_over:\n",
        "        # The agent performs an action\n",
        "        action = agent.act(state)\n",
        "\n",
        "        # Apply an action to the environment, get the next state, the reward\n",
        "        # and if the games end\n",
        "        prev_state = state\n",
        "        state, reward, game_over = env.act(action)\n",
        "\n",
        "        # Update the counters\n",
        "        if reward > 0:\n",
        "            win = win + reward\n",
        "        if reward < 0:\n",
        "            lose = lose -reward\n",
        "\n",
        "        # Apply the reinforcement strategy\n",
        "        loss = agent.reinforce(prev_state, state,  action, reward, game_over)\n",
        "\n",
        "    # Save as a mp4\n",
        "    if e % 10 == 0:\n",
        "        env.draw(e)\n",
        "\n",
        "    # Update stats\n",
        "    score += win-lose\n",
        "\n",
        "    print(\"Epoch {:03d}/{:03d} | Loss {:.4f} | Win/lose count {}/{} ({})\"\n",
        "          .format(e, epoch, loss, win, lose, win-lose))\n",
        "    agent.save()\n",
        "```"
      ]
    },
    {
      "cell_type": "markdown",
      "metadata": {
        "id": "rByeMa483cUr",
        "colab_type": "text"
      },
      "source": [
        "# The game, *eat cheese*"
      ]
    },
    {
      "cell_type": "markdown",
      "metadata": {
        "id": "JvazqAjv3cUv",
        "colab_type": "text"
      },
      "source": [
        "A rat runs on an island and tries to eat as much as possible. The island is subdivided into $N\\times N$ cells, in which there are cheese (+0.5) and poisonous cells (-1). The rat has a visibility of 2 cells (thus it can see $5^2$ cells). The rat is given a time $T$ to accumulate as much food as possible. It can perform 4 actions: going up, down, left, right. \n",
        "\n",
        "The goal is to code an agent to solve this task that will learn by trial and error. We propose the following environment:"
      ]
    },
    {
      "cell_type": "code",
      "metadata": {
        "id": "IJaBjm_13cUz",
        "colab_type": "code",
        "colab": {}
      },
      "source": [
        "class Environment(object):\n",
        "    def __init__(self, grid_size=10, max_time=500, temperature=0.1):\n",
        "        grid_size = grid_size+4\n",
        "        self.grid_size = grid_size\n",
        "        self.max_time = max_time\n",
        "        self.temperature = temperature\n",
        "\n",
        "        #board on which one plays\n",
        "        self.board = np.zeros((grid_size,grid_size))\n",
        "        self.position = np.zeros((grid_size,grid_size))\n",
        "\n",
        "        # coordinate of the rat\n",
        "        self.x = 0\n",
        "        self.y = 1\n",
        "\n",
        "        # self time\n",
        "        self.t = 0\n",
        "\n",
        "        self.scale=16\n",
        "\n",
        "        self.to_draw = np.zeros((max_time+2, grid_size*self.scale, grid_size*self.scale, 3))\n",
        "        self.grid_size = grid_size\n",
        "\n",
        "\n",
        "    def draw(self,e):\n",
        "        skvideo.io.vwrite(str(e) + '.mp4', self.to_draw)\n",
        "\n",
        "    def get_frame(self,t):\n",
        "        b = np.zeros((self.grid_size,self.grid_size,3))+128\n",
        "        b[self.board>0,0] = 255\n",
        "        b[self.board < 0, 2] = 255\n",
        "        b[self.x,self.y,:]=255\n",
        "        b[-2:,:,:]=0\n",
        "        b[:,-2:,:]=0\n",
        "        b[:2,:,:]=0\n",
        "        b[:,:2,:]=0\n",
        "        \n",
        "        b =  cv2.resize(b, None, fx=self.scale, fy=self.scale, interpolation=cv2.INTER_NEAREST)\n",
        "\n",
        "        self.to_draw[t,:,:,:]=b\n",
        "\n",
        "\n",
        "    def act(self, action):\n",
        "        \"\"\"This function returns the new state, reward and decides if the\n",
        "        game ends.\"\"\"\n",
        "\n",
        "        self.get_frame(int(self.t))\n",
        "\n",
        "        self.position = np.zeros((self.grid_size, self.grid_size))\n",
        "\n",
        "        self.position[0:2,:]= -1\n",
        "        self.position[:,0:2] = -1\n",
        "        self.position[-2:, :] = -1\n",
        "        self.position[-2:, :] = -1\n",
        "\n",
        "        self.position[self.x, self.y] = 1\n",
        "        if action == 0:\n",
        "            if self.x == self.grid_size-3:\n",
        "                self.x = self.x-1\n",
        "            else:\n",
        "                self.x = self.x + 1\n",
        "        elif action == 1:\n",
        "            if self.x == 2:\n",
        "                self.x = self.x+1\n",
        "            else:\n",
        "                self.x = self.x-1\n",
        "        elif action == 2:\n",
        "            if self.y == self.grid_size - 3:\n",
        "                self.y = self.y - 1\n",
        "            else:\n",
        "                self.y = self.y + 1\n",
        "        elif action == 3:\n",
        "            if self.y == 2:\n",
        "                self.y = self.y + 1\n",
        "            else:\n",
        "                self.y = self.y - 1\n",
        "        else:\n",
        "            RuntimeError('Error: action not recognized')\n",
        "\n",
        "        self.t = self.t + 1\n",
        "        reward = self.board[self.x, self.y]\n",
        "        self.board[self.x, self.y] = 0\n",
        "        game_over = self.t > self.max_time\n",
        "        state = np.concatenate((self.board.reshape(self.grid_size, self.grid_size,1),\n",
        "                        self.position.reshape(self.grid_size, self.grid_size,1)),axis=2)\n",
        "        state = state[self.x-2:self.x+3,self.y-2:self.y+3,:]\n",
        "\n",
        "        return state, reward, game_over\n",
        "\n",
        "    def reset(self):\n",
        "        \"\"\"This function resets the game and returns the initial state\"\"\"\n",
        "\n",
        "        self.x = np.random.randint(3, self.grid_size-3, size=1)[0]\n",
        "        self.y = np.random.randint(3, self.grid_size-3, size=1)[0]\n",
        "\n",
        "\n",
        "        bonus = 0.5*np.random.binomial(1,self.temperature,size=self.grid_size**2)\n",
        "        bonus = bonus.reshape(self.grid_size,self.grid_size)\n",
        "\n",
        "        malus = -1.0*np.random.binomial(1,self.temperature,size=self.grid_size**2)\n",
        "        malus = malus.reshape(self.grid_size, self.grid_size)\n",
        "\n",
        "        self.to_draw = np.zeros((self.max_time+2, self.grid_size*self.scale, self.grid_size*self.scale, 3))\n",
        "\n",
        "\n",
        "        malus[bonus>0]=0\n",
        "\n",
        "        self.board = bonus + malus\n",
        "\n",
        "        self.position = np.zeros((self.grid_size, self.grid_size))\n",
        "        self.position[0:2,:]= -1\n",
        "        self.position[:,0:2] = -1\n",
        "        self.position[-2:, :] = -1\n",
        "        self.position[-2:, :] = -1\n",
        "        self.board[self.x,self.y] = 0\n",
        "        self.t = 0\n",
        "\n",
        "        state = np.concatenate((\n",
        "                               self.board.reshape(self.grid_size, self.grid_size,1),\n",
        "                        self.position.reshape(self.grid_size, self.grid_size,1)),axis=2)\n",
        "\n",
        "        state = state[self.x - 2:self.x + 3, self.y - 2:self.y + 3, :]\n",
        "        return state"
      ],
      "execution_count": 0,
      "outputs": []
    },
    {
      "cell_type": "markdown",
      "metadata": {
        "id": "ulyzstBy3cVB",
        "colab_type": "text"
      },
      "source": [
        "The following elements are important because they correspond to the hyper parameters for this project:"
      ]
    },
    {
      "cell_type": "code",
      "metadata": {
        "id": "-5p7ARig3cVE",
        "colab_type": "code",
        "colab": {}
      },
      "source": [
        "# parameters\n",
        "size = 13\n",
        "T=200\n",
        "temperature=0.3\n",
        "epochs_train=5 # set small when debugging\n",
        "epochs_test=5 # set small when debugging\n",
        "\n",
        "# display videos\n",
        "def display_videos(name):\n",
        "    video = io.open(name, 'r+b').read()\n",
        "    encoded = base64.b64encode(video)\n",
        "    return '''<video alt=\"test\" controls>\n",
        "                <source src=\"data:video/mp4;base64,{0}\" type=\"video/mp4\" />\n",
        "             </video>'''.format(encoded.decode('ascii'))"
      ],
      "execution_count": 0,
      "outputs": []
    },
    {
      "cell_type": "markdown",
      "metadata": {
        "id": "At4SgGGt3cVQ",
        "colab_type": "text"
      },
      "source": [
        "__Question 2__ Explain the use of the arrays ```position``` and ```board```. #"
      ]
    },
    {
      "cell_type": "markdown",
      "metadata": {
        "id": "6iqT_lAa3cVS",
        "colab_type": "text"
      },
      "source": [
        "```position``` represents the possible positions of the rats extended by a margin of two cells width because the rat has a visibility of 2 cells. The edges are set to $-1$ to indicate that it can't go there. ```board``` contains the bonus and malus of each cells, i.e. the presence of cheese or poison. Given the position of the rat, the state is a window of 5x5 around him taken from ```position``` and ```board``` and concatenated so we know what cells are accessible and where are the cheeses and poisons around the rat."
      ]
    },
    {
      "cell_type": "markdown",
      "metadata": {
        "id": "mXdXv8fK3cVW",
        "colab_type": "text"
      },
      "source": [
        "## Random Agent"
      ]
    },
    {
      "cell_type": "markdown",
      "metadata": {
        "id": "NW2jNN6I3cVb",
        "colab_type": "text"
      },
      "source": [
        "***\n",
        "__Question 3__ Implement a random Agent (only ```learned_act``` needs to be implemented): #"
      ]
    },
    {
      "cell_type": "code",
      "metadata": {
        "id": "M-yo8M-w3cVe",
        "colab_type": "code",
        "colab": {}
      },
      "source": [
        "class RandomAgent(Agent):\n",
        "    def __init__(self):\n",
        "        super(RandomAgent, self).__init__()\n",
        "        pass\n",
        "\n",
        "    def learned_act(self, s):\n",
        "        return np.random.randint(4)"
      ],
      "execution_count": 0,
      "outputs": []
    },
    {
      "cell_type": "markdown",
      "metadata": {
        "id": "IWdg6g923cVn",
        "colab_type": "text"
      },
      "source": [
        "***\n",
        "***\n",
        "__Question 4__ Visualize the game moves. You need to fill in the following function for the evaluation: #"
      ]
    },
    {
      "cell_type": "code",
      "metadata": {
        "id": "B4izEnHT3cVp",
        "colab_type": "code",
        "colab": {}
      },
      "source": [
        "def test(agent,env,epochs,prefix=''):\n",
        "    # Number of won games\n",
        "    score = 0\n",
        "    tmp_epsilon = agent.epsilon\n",
        "    agent.set_epsilon(0.05)\n",
        "    for e in range(1,epochs+1):\n",
        "        # At each epoch, we restart to a fresh game and get the initial state\n",
        "        state = env.reset()\n",
        "        # This assumes that the games will end\n",
        "        game_over = False\n",
        "\n",
        "        win = 0\n",
        "        lose = 0\n",
        "\n",
        "        while not game_over:\n",
        "            # The agent performs an action\n",
        "            action = agent.act(state)\n",
        "\n",
        "            # Apply an action to the environment, get the next state, the reward\n",
        "            # and if the games end\n",
        "            prev_state = state\n",
        "            state, reward, game_over = env.act(action)\n",
        "\n",
        "            # Update the counters\n",
        "            if reward > 0:\n",
        "                win = win + reward\n",
        "            if reward < 0:\n",
        "                lose = lose -reward\n",
        "        \n",
        "        # Save as a mp4\n",
        "        env.draw(prefix+str(e))\n",
        "\n",
        "        # Update stats\n",
        "        score = score + win-lose\n",
        "\n",
        "        print(\"Win/lose count {}/{}. Average score ({})\"\n",
        "              .format(win, lose, score/(1+e)))\n",
        "    print('Final score: '+str(score/epochs))"
      ],
      "execution_count": 0,
      "outputs": []
    },
    {
      "cell_type": "code",
      "metadata": {
        "scrolled": false,
        "id": "q-oF5LYb3cV0",
        "colab_type": "code",
        "outputId": "4ab8cd9b-45d3-420a-fb75-207a0ec77a6b",
        "colab": {
          "base_uri": "https://localhost:8080/",
          "height": 119
        }
      },
      "source": [
        "# Initialize the game\n",
        "env = Environment(grid_size=size, max_time=T,temperature=temperature)\n",
        "\n",
        "# Initialize the agent!\n",
        "agent = RandomAgent()\n",
        "\n",
        "test(agent,env,epochs_test,prefix='random')"
      ],
      "execution_count": 9,
      "outputs": [
        {
          "output_type": "stream",
          "text": [
            "Win/lose count 11.0/11.0. Average score (0.0)\n",
            "Win/lose count 17.5/19.0. Average score (-0.5)\n",
            "Win/lose count 12.0/15.0. Average score (-1.125)\n",
            "Win/lose count 8.0/9.0. Average score (-1.1)\n",
            "Win/lose count 12.5/18.0. Average score (-1.8333333333333333)\n",
            "Final score: -2.2\n"
          ],
          "name": "stdout"
        }
      ]
    },
    {
      "cell_type": "code",
      "metadata": {
        "id": "yATbLHLj3cWB",
        "colab_type": "code",
        "outputId": "c30cc808-a02e-4aad-c21e-26f6cd3c010a",
        "colab": {
          "base_uri": "https://localhost:8080/",
          "height": 293
        }
      },
      "source": [
        "HTML(display_videos('/content/random1.mp4'))"
      ],
      "execution_count": 12,
      "outputs": [
        {
          "output_type": "execute_result",
          "data": {
            "text/html": [
              "<video alt=\"test\" controls>\n",
              "                <source src=\"data:video/mp4;base64,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\" type=\"video/mp4\" />\n",
              "             </video>"
            ],
            "text/plain": [
              "<IPython.core.display.HTML object>"
            ]
          },
          "metadata": {
            "tags": []
          },
          "execution_count": 12
        }
      ]
    },
    {
      "cell_type": "markdown",
      "metadata": {
        "id": "6rLPwstQ3cWh",
        "colab_type": "text"
      },
      "source": [
        "***\n",
        "## DQN"
      ]
    },
    {
      "cell_type": "markdown",
      "metadata": {
        "id": "e_iEEAvL3cWm",
        "colab_type": "text"
      },
      "source": [
        "Let us assume here that $T=\\infty$.\n",
        "\n",
        "***\n",
        "__Question 5__ Let $\\pi$ be a policy, show that:\n",
        "\n",
        "\\begin{equation*}\n",
        "Q^{\\pi}(s,a)=E_{(s',a')\\sim p(.|s,a)}[r(s,a)+\\gamma Q^{\\pi}(s',a')]\n",
        "\\end{equation*}\n",
        "\n",
        "Then, show that for the optimal policy $\\pi^*$ (we assume its existence), the following holds: \n",
        "\n",
        "\\begin{equation*}\n",
        "Q^{*}(s,a)=E_{s'\\sim \\pi^*(.|s,a)}[r(s,a)+\\gamma\\max_{a'}Q^{*}(s',a')].\n",
        "\\end{equation*}\n",
        "Finally, deduce that a plausible objective is:\n",
        "\n",
        "\\begin{equation*}\n",
        "\\mathcal{L}(\\theta)=E_{s' \\sim \\pi^*(.|s,a)}\\Vert r+\\gamma\\max\\max_{a'}Q(s',a',\\theta)-Q(s,a,\\theta)\\Vert^{2}.\n",
        "\\end{equation*}\n",
        "\n",
        "\n"
      ]
    },
    {
      "cell_type": "markdown",
      "metadata": {
        "id": "mPbykkGC3cWn",
        "colab_type": "text"
      },
      "source": [
        "__We have__ :\n",
        "\n",
        "\\begin{equation*}\n",
        "Q^\\pi(s,a)=E_{p^{\\pi}}[r(s,a) + \\gamma \\sum_{t \\geq 1}\\gamma^{t-1}r(s_{t},a_{t})|s_{0}=s,a_{0}=a] .\n",
        "\\end{equation*}\n",
        "\n",
        "So :\n",
        "\n",
        "\\begin{equation*}\n",
        "Q^\\pi(s,a)=\\sum_{a',s'}\\mathbb{P}(a',s'|a,s)E_{p^{\\pi}}[r(s,a) + \\gamma \\sum_{t \\geq 0}\\gamma^{t}r(s_{t+1},a_{t+1})|s_{0}=s,a_{0}=a,s_{1}=s',a_{1}=a'] .\n",
        "\\end{equation*}\n",
        "\n",
        "\\begin{equation*}\n",
        "Q^\\pi(s,a)=\\sum_{a',s'}\\mathbb{P}(a',s'|a,s)(r(s,a) + \\gamma E_{p^{\\pi}}[\\sum_{t \\geq 0}\\gamma^{t}r(s_{t+1},a_{t+1})|s_{0}=s,a_{0}=a,s_{1}=s',a_{1}=a']) .\n",
        "\\end{equation*}\n",
        "\n",
        "\\begin{equation*}\n",
        "Q^\\pi(s,a)=\\sum_{a',s'}\\mathbb{P}(a',s'|a,s)(r(s,a) + \\gamma Q^\\pi(s',a')) .\n",
        "\\end{equation*}\n",
        "\n",
        "And therefore :\n",
        "\n",
        "\\begin{equation*}\n",
        "Q^{\\pi}(s,a)=E_{(s',a')\\sim p(.|s,a)}[r(s,a)+\\gamma Q^{\\pi}(s',a')]\n",
        "\\end{equation*}"
      ]
    },
    {
      "cell_type": "markdown",
      "metadata": {
        "id": "j0EV9U493cWs",
        "colab_type": "text"
      },
      "source": [
        "__We have__ :\n",
        "\n",
        "\\begin{equation*}\n",
        "Q^*(s,a)=\\max_{\\pi}E_{p^{\\pi}}[\\sum_{t\\leq T}\\gamma^{t}r(s_{t},a_{t})|s_{0}=s,a_{0}=a]).\n",
        "\\end{equation*}\n",
        "\n",
        "So : \n",
        "\n",
        "\\begin{equation*}\n",
        "Q^*(s,a)= \\underset{\\pi}{\\max} E_{(s',a')\\sim p(.|s,a)}[r(s,a)+\\gamma Q^{\\pi}(s',a')]\n",
        "\\end{equation*}\n",
        "\n",
        "\\begin{equation*}\n",
        "= r(s,a) + \\gamma  \\underset{\\pi}{\\max} E_{(s',a')\\sim p(.|s,a)}[Q^{\\pi}(s',a')]\n",
        "\\end{equation*}\n",
        "\n",
        "\\begin{equation*}\n",
        "= r(s,a) + \\gamma \\underset{\\pi}{\\max} \\sum\\limits_{s',a'}\\pi(a'|s')p(s'|s,a)Q^{\\pi}(s',a')\n",
        "\\end{equation*}\n",
        "\n",
        "\\begin{equation*}\n",
        "= r(s,a) + \\gamma \\underset{\\pi}{\\max} \\sum\\limits_{s'}p(s'|s,a)\\sum\\limits_{a'}\\pi(a'|s')Q^{\\pi}(s',a') \n",
        "\\end{equation*}\n",
        "\n",
        "And because $p(s'|s,a)$ doesn't depends on $\\pi$ :\n",
        "\n",
        "\\begin{equation*}\n",
        "Q^*(s,a) = r(s,a) + \\gamma \\sum\\limits_{s'}p(s'|s,a)\\underset{\\pi}{\\max}\\sum\\limits_{a'}\\pi(a'|s')Q^{\\pi}(s',a') \n",
        "\\end{equation*}\n",
        "\n",
        "We now need to maximize $\\underset{\\pi}{\\max}\\sum\\limits_{a'}\\pi(a'|s')Q^{\\pi}(s',a')$. We have : \n",
        "\n",
        "\\begin{equation*}\n",
        "\\sum\\limits_{a'}\\pi(a'|s')Q^{\\pi}(s',a') \\leq \\sum\\limits_{a'}\\pi(a'|s')\\underset{x}{\\max}Q^{\\pi}(s',x) = \\underset{x}{\\max}Q^{\\pi}(s',x) = \\underset{x}{\\max}Q^{*}(s',x)\n",
        "\\end{equation*}\n",
        "\n",
        "We now need to prove that this bound is reached by $\\pi^*$. It is so if $\\pi^*(a^*|s')=1$ where $a^* \\in \\underset{x}{\\text{argmax}} Q^*(s',x)$ :\n",
        "\n",
        "\\begin{equation*}\n",
        "\\sum\\limits_{a'}\\pi^*(a'|s')Q^{\\pi^*}(s',a') = Q^*(s',a^*)\n",
        "\\end{equation*}\n",
        "\n",
        "We conclude that $\\underset{\\pi}{\\max}\\sum\\limits_{a'}\\pi(a'|s')Q^{\\pi}(s',a') = Q^*(s',a^*)$ and :\n",
        "\n",
        "\\begin{equation*}\n",
        "Q^*(s,a) = r(s,a) + \\gamma \\sum\\limits_{s'}p(s'|s,a) \\underset{a'}{\\max} Q^*(s',a')\n",
        "\\end{equation*}\n",
        "\n",
        "\\begin{equation*}\n",
        " =E_{s'\\sim p(.|s,a)}[r(s,a)+\\gamma\\max_{a'}Q^{*}(s',a')]. \n"
      ]
    },
    {
      "cell_type": "markdown",
      "metadata": {
        "id": "HSgpWRHu3cWv",
        "colab_type": "text"
      },
      "source": [
        "***\n",
        "The DQN-learning algorithm relies on these derivations to train the parameters $\\theta$ of a Deep Neural Network:\n",
        "\n",
        "1. At the state $s_t$, select the action $a_t$ with best reward using $Q_t$ and store the results;\n",
        "\n",
        "2. Obtain the new state $s_{t+1}$ from the environment $p$;\n",
        "\n",
        "3. Store $(s_t,a_t,s_{t+1})$;\n",
        "\n",
        "4. Obtain $Q_{t+1}$ by minimizing  $\\mathcal{L}$ from a recovered batch from the previously stored results.\n",
        "\n",
        "***\n",
        "__Question 6__ Implement the class ```Memory``` that stores moves (in a replay buffer) via ```remember``` and provides a ```random_access``` to these. Specify a maximum memory size to avoid side effects. You can for example use a ```list()``` and set by default ```max_memory=100```. #"
      ]
    },
    {
      "cell_type": "code",
      "metadata": {
        "id": "U_z4Lvuh3cWz",
        "colab_type": "code",
        "colab": {}
      },
      "source": [
        "class Memory(object):\n",
        "    def __init__(self, max_memory=100):\n",
        "        self.max_memory = max_memory\n",
        "        self.memory = list()\n",
        "\n",
        "    def remember(self, m):\n",
        "        if len(self.memory)>self.max_memory:\n",
        "          self.memory = self.memory[1:]\n",
        "        self.memory = self.memory + [m]\n",
        "    def random_access(self):\n",
        "        ind = np.random.randint(len(self.memory))\n",
        "        return self.memory[ind]"
      ],
      "execution_count": 0,
      "outputs": []
    },
    {
      "cell_type": "markdown",
      "metadata": {
        "id": "PoKlirmq3cW_",
        "colab_type": "text"
      },
      "source": [
        "***\n",
        "The pipeline we will use for training is given below:"
      ]
    },
    {
      "cell_type": "code",
      "metadata": {
        "id": "kjQBaiYL3cXB",
        "colab_type": "code",
        "colab": {}
      },
      "source": [
        "def train(agent,env,epoch,stop,prefix=''):\n",
        "    # Number of won games\n",
        "    score = 0\n",
        "    loss = 0\n",
        "    scores = []\n",
        "\n",
        "    for e in range(epoch):\n",
        "        # At each epoch, we restart to a fresh game and get the initial state\n",
        "        state = env.reset()\n",
        "        # This assumes that the games will terminate\n",
        "        game_over = False\n",
        "\n",
        "        win = 0\n",
        "        lose = 0\n",
        "\n",
        "        while not game_over:\n",
        "            # The agent performs an action\n",
        "            action = agent.act(state)\n",
        "\n",
        "            # Apply an action to the environment, get the next state, the reward\n",
        "            # and if the games end\n",
        "            prev_state = state\n",
        "            state, reward, game_over = env.act(action)\n",
        "\n",
        "            # Update the counters\n",
        "            if reward > 0:\n",
        "                win = win + reward\n",
        "            if reward < 0:\n",
        "                lose = lose -reward\n",
        "\n",
        "            # Apply the reinforcement strategy\n",
        "            loss = agent.reinforce(prev_state, state,  action, reward, game_over)\n",
        "        \n",
        "        scores += [win-lose]\n",
        "        if e>=4:\n",
        "          if np.mean(scores[e-4:e+1])>stop:\n",
        "            break\n",
        "\n",
        "        # Save as a mp4\n",
        "        if e % 10 == 0:\n",
        "            env.draw(prefix+str(e))\n",
        "\n",
        "        # Update stats\n",
        "        score += win-lose\n",
        "\n",
        "        print(\"Epoch {:03d}/{:03d} | Loss {:.4f} | Win/lose count {}/{} ({})\"\n",
        "              .format(e, epoch, loss, win, lose, win-lose))\n",
        "        agent.save(name_weights=prefix+'model.h5',name_model=prefix+'model.json')\n",
        "    return scores"
      ],
      "execution_count": 0,
      "outputs": []
    },
    {
      "cell_type": "markdown",
      "metadata": {
        "id": "hwlYh5dE3cXN",
        "colab_type": "text"
      },
      "source": [
        "***\n",
        "__Question 7__ Implement the DQN training algorithm using a cascade of fully connected layers. You can use different learning rate, batch size or memory size parameters. In particular, the loss might oscillate while the player will start to win the games. You have to find a good criterium. #"
      ]
    },
    {
      "cell_type": "code",
      "metadata": {
        "id": "VcEAc-vG3cXS",
        "colab_type": "code",
        "colab": {}
      },
      "source": [
        "class DQN(Agent):\n",
        "    def __init__(self, grid_size,  epsilon = 0.1, memory_size=100, batch_size = 16,n_state=2):\n",
        "        super(DQN, self).__init__(epsilon = epsilon)\n",
        "\n",
        "        # Discount for Q learning\n",
        "        self.discount = 0.99\n",
        "        \n",
        "        self.grid_size = grid_size\n",
        "        \n",
        "        # number of state\n",
        "        self.n_state = n_state\n",
        "\n",
        "        # Memory\n",
        "        self.memory = Memory(memory_size)\n",
        "        \n",
        "        # Batch size when learning\n",
        "        self.batch_size = batch_size\n",
        "\n",
        "    def learned_act(self, s):\n",
        "        return np.argmax(self.model.predict(np.array([s])))\n",
        "\n",
        "    def reinforce(self, s_, n_s_, a_, r_, game_over_):\n",
        "        # Two steps: first memorize the states, second learn from the pool\n",
        "\n",
        "        self.memory.remember([s_, n_s_, a_, r_, game_over_])\n",
        "        \n",
        "        input_states = np.zeros((self.batch_size, 5,5,self.n_state))\n",
        "        target_q = np.zeros((self.batch_size, 4))\n",
        "        \n",
        "        for i in range(self.batch_size):\n",
        "            s, n_s, a, r, game_over = self.memory.random_access()\n",
        "            input_states[i] = s\n",
        "            \n",
        "            if game_over_:\n",
        "                target = r\n",
        "            else:\n",
        "                target = r + self.discount*np.max(self.model.predict(np.array([n_s])))\n",
        "            target_q[i] = self.model.predict(np.array([s]))\n",
        "            target_q[i,a] = target\n",
        "        # HINT: Clip the target to avoid exploiding gradients.. -- clipping is a bit tighter\n",
        "        target_q = np.clip(target_q, -3, 3)\n",
        "        l = self.model.train_on_batch(input_states, target_q)\n",
        "\n",
        "\n",
        "        return l\n",
        "\n",
        "    def save(self,name_weights='model.h5',name_model='model.json'):\n",
        "        self.model.save_weights(name_weights, overwrite=True)\n",
        "        with open(name_model, \"w\") as outfile:\n",
        "            json.dump(self.model.to_json(), outfile)\n",
        "            \n",
        "    def load(self,name_weights='model.h5',name_model='model.json'):\n",
        "        with open(name_model, \"r\") as jfile:\n",
        "            model = model_from_json(json.load(jfile))\n",
        "        model.load_weights(name_weights)\n",
        "        model.compile(\"sgd\", \"mse\")\n",
        "        self.model = model\n",
        "\n",
        "from keras.models import Sequential\n",
        "from keras.layers import Dropout, Input, Conv1D, MaxPooling1D, Flatten, Dense\n",
        "            \n",
        "class DQN_FC(DQN):\n",
        "    def __init__(self, *args, lr=0.05,**kwargs):\n",
        "        super(DQN_FC, self).__init__( *args,**kwargs)\n",
        "        \n",
        "        # NN Model\n",
        "        \n",
        "        model = Sequential()\n",
        "        model.add(Flatten(input_shape=(5,5,self.n_state)))\n",
        "        #model.add(Dense(25, activation='relu'))\n",
        "        #model.add(keras.layers.BatchNormalization(axis=-1, momentum=0.99, epsilon=0.001))\n",
        "        model.add(Dense(9, activation='relu'))\n",
        "        #model.add(keras.layers.BatchNormalization(axis=-1, momentum=0.99, epsilon=0.001))\n",
        "        model.add(Dense(4))\n",
        "        \n",
        "        \n",
        "        model.compile(optimizer=keras.optimizers.SGD(lr=lr, decay=1e-6, momentum=0.9, nesterov=True), loss=\"mean_squared_error\")\n",
        "        self.model = model\n",
        "        "
      ],
      "execution_count": 0,
      "outputs": []
    },
    {
      "cell_type": "code",
      "metadata": {
        "id": "Hd-jX98gxYZZ",
        "colab_type": "code",
        "colab": {}
      },
      "source": [
        "size = 13\n",
        "T=200\n",
        "epochs_train=30\n",
        "epochs_test=5"
      ],
      "execution_count": 0,
      "outputs": []
    },
    {
      "cell_type": "code",
      "metadata": {
        "id": "ULgczq7E3cXf",
        "colab_type": "code",
        "colab": {
          "base_uri": "https://localhost:8080/",
          "height": 391
        },
        "outputId": "6216d58f-f5fe-4ede-adbc-19f459865e6a"
      },
      "source": [
        "env = Environment(grid_size=size, max_time=T, temperature=0.3)\n",
        "agent = DQN_FC(size, lr=.1, epsilon = 0.1, memory_size=500, batch_size = 16)\n",
        "scores = train(agent, env, epochs_train, stop=4, prefix='fc_train')"
      ],
      "execution_count": 220,
      "outputs": [
        {
          "output_type": "stream",
          "text": [
            "Epoch 000/030 | Loss 1.9918 | Win/lose count 4.0/2.0 (2.0)\n",
            "Epoch 001/030 | Loss 1.3504 | Win/lose count 3.5/1.0 (2.5)\n",
            "Epoch 002/030 | Loss 1.1916 | Win/lose count 5.0/9.0 (-4.0)\n",
            "Epoch 003/030 | Loss 1.2441 | Win/lose count 2.5/5.0 (-2.5)\n",
            "Epoch 004/030 | Loss 1.3414 | Win/lose count 11.0/7.0 (4.0)\n",
            "Epoch 005/030 | Loss 1.6426 | Win/lose count 3.5/4.0 (-0.5)\n",
            "Epoch 006/030 | Loss 1.6067 | Win/lose count 7.5/7.0 (0.5)\n",
            "Epoch 007/030 | Loss 1.5930 | Win/lose count 4.5/9.0 (-4.5)\n",
            "Epoch 008/030 | Loss 1.5655 | Win/lose count 1.5/6.0 (-4.5)\n",
            "Epoch 009/030 | Loss 0.8895 | Win/lose count 3.5/12.0 (-8.5)\n",
            "Epoch 010/030 | Loss 1.3743 | Win/lose count 9.5/5.0 (4.5)\n",
            "Epoch 011/030 | Loss 1.8675 | Win/lose count 10.0/8.0 (2.0)\n",
            "Epoch 012/030 | Loss 1.8473 | Win/lose count 10.5/7.0 (3.5)\n",
            "Epoch 013/030 | Loss 2.0911 | Win/lose count 4.0/3.0 (1.0)\n",
            "Epoch 014/030 | Loss 2.0243 | Win/lose count 4.0/1.0 (3.0)\n",
            "Epoch 015/030 | Loss 1.8727 | Win/lose count 9.5/4.0 (5.5)\n",
            "Epoch 016/030 | Loss 1.9924 | Win/lose count 8.0/6.0 (2.0)\n",
            "Epoch 017/030 | Loss 1.6132 | Win/lose count 3.5/6.0 (-2.5)\n",
            "Epoch 018/030 | Loss 1.7277 | Win/lose count 7.5/9.0 (-1.5)\n",
            "Epoch 019/030 | Loss 1.8560 | Win/lose count 9.0/4.0 (5.0)\n",
            "Epoch 020/030 | Loss 1.8487 | Win/lose count 11.0/5.0 (6.0)\n",
            "Epoch 021/030 | Loss 1.8994 | Win/lose count 11.0/1.0 (10.0)\n"
          ],
          "name": "stdout"
        }
      ]
    },
    {
      "cell_type": "code",
      "metadata": {
        "id": "Zjbch_KX612j",
        "colab_type": "code",
        "colab": {
          "base_uri": "https://localhost:8080/",
          "height": 282
        },
        "outputId": "6ed0bc78-e3f7-4421-d5d9-991bdffd008a"
      },
      "source": [
        "import matplotlib.pyplot as plt\n",
        "mean_window_scores = []\n",
        "wind = 10\n",
        "for i in range(len(scores)-wind):\n",
        "  mean_window_scores += [np.mean(scores[i:i+wind])]\n",
        "plt.plot(mean_window_scores)"
      ],
      "execution_count": 221,
      "outputs": [
        {
          "output_type": "execute_result",
          "data": {
            "text/plain": [
              "[<matplotlib.lines.Line2D at 0x7f00824db748>]"
            ]
          },
          "metadata": {
            "tags": []
          },
          "execution_count": 221
        },
        {
          "output_type": "display_data",
          "data": {
            "image/png": "[encoded data removed]",
            "text/plain": [
              "<Figure size 432x288 with 1 Axes>"
            ]
          },
          "metadata": {
            "tags": []
          }
        }
      ]
    },
    {
      "cell_type": "code",
      "metadata": {
        "id": "HLc7VC6hDb5R",
        "colab_type": "code",
        "colab": {
          "base_uri": "https://localhost:8080/",
          "height": 293
        },
        "outputId": "96a19c01-56de-4876-f3fb-944fb62cb8ca"
      },
      "source": [
        "HTML(display_videos('fc_train20.mp4'))"
      ],
      "execution_count": 222,
      "outputs": [
        {
          "output_type": "execute_result",
          "data": {
            "text/html": [
              "<video alt=\"test\" controls>\n",
              "                <source src=\"data:video/mp4;base64,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\" type=\"video/mp4\" />\n",
              "             </video>"
            ],
            "text/plain": [
              "<IPython.core.display.HTML object>"
            ]
          },
          "metadata": {
            "tags": []
          },
          "execution_count": 222
        }
      ]
    },
    {
      "cell_type": "markdown",
      "metadata": {
        "id": "ScflYN4R3cXr",
        "colab_type": "text"
      },
      "source": [
        "***\n",
        "***\n",
        "__Question 8__ Implement the DQN training algorithm using a CNN (for example, 2 convolutional layers and one final fully connected layer). #"
      ]
    },
    {
      "cell_type": "code",
      "metadata": {
        "id": "FCLsmO3Y3cXu",
        "colab_type": "code",
        "colab": {}
      },
      "source": [
        "from keras.layers import Conv2D, MaxPooling2D, Flatten, Dense\n",
        "\n",
        "class DQN_CNN(DQN):\n",
        "    def __init__(self, *args,lr=0.1,**kwargs):\n",
        "        super(DQN_CNN, self).__init__(*args,**kwargs)\n",
        "        \n",
        "        model = Sequential()\n",
        "        \n",
        "        # First convolutional layer with kernel size 3, stride 1 and 16 filters\n",
        "        model.add(Conv2D(8, (3,3), input_shape=(5,5,self.n_state), activation=\"relu\"))\n",
        "        # Flattening and feeding the output to a 4 units fully connected layer\n",
        "        model.add(Flatten())\n",
        "        model.add(Dense(4))\n",
        "        \n",
        "        model.compile(optimizer=keras.optimizers.SGD(lr=lr, decay=1e-6, momentum=0.9, nesterov=True), loss=\"mse\")\n",
        "        self.model = model"
      ],
      "execution_count": 0,
      "outputs": []
    },
    {
      "cell_type": "code",
      "metadata": {
        "id": "UiENVuyJSYdN",
        "colab_type": "code",
        "colab": {}
      },
      "source": [
        "size = 13\n",
        "T=200\n",
        "epochs_train=50\n",
        "epochs_test=11"
      ],
      "execution_count": 0,
      "outputs": []
    },
    {
      "cell_type": "code",
      "metadata": {
        "id": "A6A_oU4-3cX5",
        "colab_type": "code",
        "colab": {
          "base_uri": "https://localhost:8080/",
          "height": 425
        },
        "outputId": "d8729991-df5b-4ffc-863b-30e5a934c160"
      },
      "source": [
        "env = Environment(grid_size=size, max_time=T, temperature=0.3)\n",
        "agent = DQN_CNN(size, lr=.1, epsilon = 0.1, memory_size=500, batch_size = 16)\n",
        "losses = train(agent,env,epochs_train, stop=8, prefix='cnn_train')"
      ],
      "execution_count": 227,
      "outputs": [
        {
          "output_type": "stream",
          "text": [
            "Epoch 000/050 | Loss 0.5052 | Win/lose count 5.0/14.0 (-9.0)\n",
            "Epoch 001/050 | Loss 1.7208 | Win/lose count 9.5/3.0 (6.5)\n",
            "Epoch 002/050 | Loss 1.8609 | Win/lose count 9.5/7.0 (2.5)\n",
            "Epoch 003/050 | Loss 2.1178 | Win/lose count 4.0/2.0 (2.0)\n",
            "Epoch 004/050 | Loss 1.9959 | Win/lose count 2.5/6.0 (-3.5)\n",
            "Epoch 005/050 | Loss 1.7083 | Win/lose count 5.5/6.0 (-0.5)\n",
            "Epoch 006/050 | Loss 2.0840 | Win/lose count 10.5/7.0 (3.5)\n",
            "Epoch 007/050 | Loss 1.8633 | Win/lose count 3.0/4.0 (-1.0)\n",
            "Epoch 008/050 | Loss 1.9986 | Win/lose count 2.0/2.0 (0.0)\n",
            "Epoch 009/050 | Loss 1.8346 | Win/lose count 10.0/3.0 (7.0)\n",
            "Epoch 010/050 | Loss 1.7953 | Win/lose count 3.5/4.0 (-0.5)\n",
            "Epoch 011/050 | Loss 1.7654 | Win/lose count 4.5/3.0 (1.5)\n",
            "Epoch 012/050 | Loss 1.9305 | Win/lose count 7.5/7.0 (0.5)\n",
            "Epoch 013/050 | Loss 1.9391 | Win/lose count 7.0/1.0 (6.0)\n",
            "Epoch 014/050 | Loss 1.8648 | Win/lose count 7.0/3.0 (4.0)\n",
            "Epoch 015/050 | Loss 1.9227 | Win/lose count 8.0/6.0 (2.0)\n",
            "Epoch 016/050 | Loss 1.8843 | Win/lose count 8.0/5.0 (3.0)\n",
            "Epoch 017/050 | Loss 1.8302 | Win/lose count 6.0/1.0 (5.0)\n",
            "Epoch 018/050 | Loss 1.9022 | Win/lose count 9.0/1.0 (8.0)\n",
            "Epoch 019/050 | Loss 1.8827 | Win/lose count 4.5/4.0 (0.5)\n",
            "Epoch 020/050 | Loss 1.8111 | Win/lose count 14.5/3.0 (11.5)\n",
            "Epoch 021/050 | Loss 1.8382 | Win/lose count 8.5/5.0 (3.5)\n",
            "Epoch 022/050 | Loss 1.8479 | Win/lose count 16.5/3.0 (13.5)\n",
            "Epoch 023/050 | Loss 1.9246 | Win/lose count 6.5/0 (6.5)\n"
          ],
          "name": "stdout"
        }
      ]
    },
    {
      "cell_type": "code",
      "metadata": {
        "id": "eT-8gphtEc45",
        "colab_type": "code",
        "colab": {
          "base_uri": "https://localhost:8080/",
          "height": 286
        },
        "outputId": "47d93376-0165-45d2-8446-5337095242ab"
      },
      "source": [
        "import matplotlib.pyplot as plt\n",
        "mean_window_scores = []\n",
        "wind = 10\n",
        "for i in range(len(losses)-wind):\n",
        "  mean_window_scores += [np.mean(losses[i:i+wind])]\n",
        "plt.plot(mean_window_scores)"
      ],
      "execution_count": 229,
      "outputs": [
        {
          "output_type": "execute_result",
          "data": {
            "text/plain": [
              "[<matplotlib.lines.Line2D at 0x7f00822a9f60>]"
            ]
          },
          "metadata": {
            "tags": []
          },
          "execution_count": 229
        },
        {
          "output_type": "display_data",
          "data": {
            "image/png": "[encoded data removed]",
            "text/plain": [
              "<Figure size 432x288 with 1 Axes>"
            ]
          },
          "metadata": {
            "tags": []
          }
        }
      ]
    },
    {
      "cell_type": "code",
      "metadata": {
        "id": "mZa8RPIMS70S",
        "colab_type": "code",
        "colab": {
          "base_uri": "https://localhost:8080/",
          "height": 293
        },
        "outputId": "0135a5bf-2a60-482e-a076-91e22f25826c"
      },
      "source": [
        "HTML(display_videos('cnn_train20.mp4'))"
      ],
      "execution_count": 230,
      "outputs": [
        {
          "output_type": "execute_result",
          "data": {
            "text/html": [
              "<video alt=\"test\" controls>\n",
              "                <source src=\"data:video/mp4;base64,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\" type=\"video/mp4\" />\n",
              "             </video>"
            ],
            "text/plain": [
              "<IPython.core.display.HTML object>"
            ]
          },
          "metadata": {
            "tags": []
          },
          "execution_count": 230
        }
      ]
    },
    {
      "cell_type": "markdown",
      "metadata": {
        "id": "rHkqN3GA3cYD",
        "colab_type": "text"
      },
      "source": [
        "***\n",
        "***\n",
        "__Question 9__ Test both algorithms and compare their performances. Which issue(s) do you observe? Observe also different behaviors by changing the temperature."
      ]
    },
    {
      "cell_type": "code",
      "metadata": {
        "id": "76N6MVXn3cYI",
        "colab_type": "code",
        "colab": {
          "base_uri": "https://localhost:8080/",
          "height": 459
        },
        "outputId": "20d8cace-d1b1-4713-85b4-65d197a8a515"
      },
      "source": [
        "env = Environment(grid_size=size, max_time=T,temperature=0.3)\n",
        "agent_cnn = DQN_CNN(size, lr=.1, epsilon = 0.1, memory_size=500, batch_size = 16)\n",
        "agent_cnn.load(name_weights='cnn_trainmodel.h5',name_model='cnn_trainmodel.json')\n",
        "\n",
        "agent_fc = DQN_FC(size, lr=.1, epsilon = 0.1, memory_size=500, batch_size = 16)\n",
        "agent_fc.load(name_weights='fc_trainmodel.h5',name_model='fc_trainmodel.json')\n",
        "print('Test of the CNN')\n",
        "test(agent_cnn,env,epochs_test,prefix='cnn_test')\n",
        "print('Test of the FC')\n",
        "test(agent_fc,env,epochs_test,prefix='fc_test')"
      ],
      "execution_count": 235,
      "outputs": [
        {
          "output_type": "stream",
          "text": [
            "Test of the CNN\n",
            "Win/lose count 8.0/1.0. Average score (3.5)\n",
            "Win/lose count 4.0/1.0. Average score (3.3333333333333335)\n",
            "Win/lose count 6.0/2.0. Average score (3.5)\n",
            "Win/lose count 6.0/1.0. Average score (3.8)\n",
            "Win/lose count 4.5/0. Average score (3.9166666666666665)\n",
            "Win/lose count 4.0/0. Average score (3.9285714285714284)\n",
            "Win/lose count 1.5/1.0. Average score (3.5)\n",
            "Win/lose count 7.5/3.0. Average score (3.611111111111111)\n",
            "Win/lose count 8.0/2.0. Average score (3.85)\n",
            "Win/lose count 2.5/2.0. Average score (3.5454545454545454)\n",
            "Win/lose count 6.0/5.0. Average score (3.3333333333333335)\n",
            "Final score: 3.6363636363636362\n",
            "Test of the FC\n",
            "Win/lose count 2.0/2.0. Average score (0.0)\n",
            "Win/lose count 6.5/1.0. Average score (1.8333333333333333)\n",
            "Win/lose count 3.5/3.0. Average score (1.5)\n",
            "Win/lose count 2.5/0. Average score (1.7)\n",
            "Win/lose count 1.0/5.0. Average score (0.75)\n",
            "Win/lose count 2.5/2.0. Average score (0.7142857142857143)\n",
            "Win/lose count 5.0/2.0. Average score (1.0)\n",
            "Win/lose count 5.5/1.0. Average score (1.3888888888888888)\n",
            "Win/lose count 5.0/4.0. Average score (1.35)\n",
            "Win/lose count 3.5/4.0. Average score (1.1818181818181819)\n",
            "Win/lose count 3.0/0. Average score (1.3333333333333333)\n",
            "Final score: 1.4545454545454546\n"
          ],
          "name": "stdout"
        }
      ]
    },
    {
      "cell_type": "code",
      "metadata": {
        "id": "7lehKYML3cYV",
        "colab_type": "code",
        "colab": {
          "base_uri": "https://localhost:8080/",
          "height": 293
        },
        "outputId": "894778be-87c5-4a60-c53d-be9faf1fb6ed"
      },
      "source": [
        "HTML(display_videos('cnn_test10.mp4'))"
      ],
      "execution_count": 236,
      "outputs": [
        {
          "output_type": "execute_result",
          "data": {
            "text/html": [
              "<video alt=\"test\" controls>\n",
              "                <source src=\"data:video/mp4;base64,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\" type=\"video/mp4\" />\n",
              "             </video>"
            ],
            "text/plain": [
              "<IPython.core.display.HTML object>"
            ]
          },
          "metadata": {
            "tags": []
          },
          "execution_count": 236
        }
      ]
    },
    {
      "cell_type": "code",
      "metadata": {
        "id": "fwA-hM943cYe",
        "colab_type": "code",
        "colab": {
          "base_uri": "https://localhost:8080/",
          "height": 293
        },
        "outputId": "cd867fb6-5c4f-4f34-dea1-27b4fc335bc3"
      },
      "source": [
        "HTML(display_videos('fc_test10.mp4'))"
      ],
      "execution_count": 237,
      "outputs": [
        {
          "output_type": "execute_result",
          "data": {
            "text/html": [
              "<video alt=\"test\" controls>\n",
              "                <source src=\"data:video/mp4;base64,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\" type=\"video/mp4\" />\n",
              "             </video>"
            ],
            "text/plain": [
              "<IPython.core.display.HTML object>"
            ]
          },
          "metadata": {
            "tags": []
          },
          "execution_count": 237
        }
      ]
    },
    {
      "cell_type": "markdown",
      "metadata": {
        "id": "jOeU4-FP3cYq",
        "colab_type": "text"
      },
      "source": [
        "The main issue is the exploration. The mouse sometimes stays in a given space without poison or cheese. It indeed doesn't get poison but doesn't get cheese either. So the mouse doesn't explore the grid due to the fact that it doesn't explore the different actions in a given state. We observe that CNN outperforms FC."
      ]
    },
    {
      "cell_type": "markdown",
      "metadata": {
        "id": "yJRKCTK53cYt",
        "colab_type": "text"
      },
      "source": [
        "***\n",
        "\n",
        "The algorithm tends to not explore the map which can be an issue. We propose two ideas in order to encourage exploration:\n",
        "1. Incorporating a decreasing $\\epsilon$-greedy exploration. You can use the method ```set_epsilon```\n",
        "2. Append via the environment a new state that describes if a cell has been visited or not\n",
        "\n",
        "***\n",
        "__Question 10__ Design a new ```train_explore``` function and environment class ```EnvironmentExploring``` to tackle the issue of exploration.\n",
        "\n"
      ]
    },
    {
      "cell_type": "code",
      "metadata": {
        "id": "5VSLWCmH3cYw",
        "colab_type": "code",
        "colab": {}
      },
      "source": [
        "def train_explore(agent,env,epoch,prefix=''):\n",
        "    pass\n",
        "        \n",
        "class EnvironmentExploring(object):\n",
        "    def __init__(self, grid_size=10, max_time=500, temperature=0.1):\n",
        "        pass\n",
        "    \n",
        "## use those samples of code:\n",
        "#In train explore:\n",
        "state, reward, game_over = env.act(action, train=True)\n",
        "\n",
        "## In Environment exploring:\n",
        "# You will have to change n_state to 3 because you will use one more layer!\n",
        "reward = 0\n",
        "if train:\n",
        "    reward = -self.malus_position[self.x, self.y]\n",
        "self.malus_position[self.x, self.y] = 0.1\n",
        "\n",
        "reward = reward + self.board[self.x, self.y]\n",
        "# 3 \"feature\" states instead of 2\n",
        "state = np.concatenate((self.malus_position.reshape(self.grid_size, self.grid_size,1),\n",
        "                                self.board.reshape(self.grid_size, self.grid_size,1),\n",
        "                        self.position.reshape(self.grid_size, self.grid_size,1)),axis=2)"
      ],
      "execution_count": 0,
      "outputs": []
    },
    {
      "cell_type": "code",
      "metadata": {
        "id": "A-Uq_wfv3cY7",
        "colab_type": "code",
        "colab": {}
      },
      "source": [
        "# Training\n",
        "env = EnvironmentExploring(grid_size=size, max_time=T, temperature=0.3)\n",
        "agent = DQN_CNN(size, lr=.1, epsilon = 0.1, memory_size=2000, batch_size = 32,n_state=3)\n",
        "train_explore(agent, env, epochs_train, prefix='cnn_train_explore')\n",
        "HTML(display_videos('cnn_train_explore10.mp4'))"
      ],
      "execution_count": 0,
      "outputs": []
    },
    {
      "cell_type": "code",
      "metadata": {
        "id": "OByZ_NMm3cZJ",
        "colab_type": "code",
        "colab": {}
      },
      "source": [
        "# Evaluation\n",
        "test(agent,env,epochs_test,prefix='cnn_test_explore')\n",
        "HTML(display_videos('cnn_test_explore10.mp4'))"
      ],
      "execution_count": 0,
      "outputs": []
    },
    {
      "cell_type": "markdown",
      "metadata": {
        "id": "aZDViOnq3cZQ",
        "colab_type": "text"
      },
      "source": [
        "***\n",
        "***\n",
        "__BONUS question__ Use the expert DQN from the previous question to generate some winning games. Train a model that mimicks its behavior. Compare the performances."
      ]
    },
    {
      "cell_type": "markdown",
      "metadata": {
        "id": "ZJyrQ3PT3cZR",
        "colab_type": "text"
      },
      "source": [
        ""
      ]
    },
    {
      "cell_type": "markdown",
      "metadata": {
        "id": "sMM6m7uL3cZS",
        "colab_type": "text"
      },
      "source": [
        "***"
      ]
    }
  ]
}
